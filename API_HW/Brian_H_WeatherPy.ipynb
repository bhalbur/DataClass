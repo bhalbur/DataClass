{
 "cells": [
  {
   "cell_type": "markdown",
   "metadata": {},
   "source": [
    "# WeatherPy\n",
    "----\n",
    "\n",
    "### Analysis\n",
    "* As expected, the weather becomes significantly warmer as one approaches the equator (0 Deg. Latitude). More interestingly, however, is the fact that the southern hemisphere tends to be warmer this time of year than the northern hemisphere. This may be due to the tilt of the earth.\n",
    "* There is no strong relationship between latitude and cloudiness. However, it is interesting to see that a strong band of cities sits at 0, 80, and 100% cloudiness.\n",
    "* There is no strong relationship between latitude and wind speed. However, in northern hemispheres there is a flurry of cities with over 20 mph of wind.\n",
    "\n",
    "---\n",
    "\n",
    "#### Note\n",
    "* Instructions have been included for each segment. You do not have to follow them exactly, but they are included to help you think through the steps."
   ]
  },
  {
   "cell_type": "code",
   "execution_count": 73,
   "metadata": {},
   "outputs": [],
   "source": [
    "import matplotlib as plt\n",
    "import numpy as np\n",
    "import pandas as pd\n",
    "import time\n",
    "import requests\n",
    "import datetime\n",
    "\n",
    "from config import api_key\n",
    "from citipy import citipy\n",
    "\n",
    "lat_range = (-90,90)\n",
    "lng_range = (-180,180)"
   ]
  },
  {
   "cell_type": "markdown",
   "metadata": {},
   "source": [
    "## Generate Cities List"
   ]
  },
  {
   "cell_type": "code",
   "execution_count": 40,
   "metadata": {},
   "outputs": [
    {
     "name": "stdout",
     "output_type": "stream",
     "text": [
      "(87.09589986062616, -50.44441036044776)\n"
     ]
    }
   ],
   "source": [
    "lats = np.random.uniform(lat_range[0],lat_range[1],1200)\n",
    "lngs = np.random.uniform(lng_range[0],lng_range[1],1200)\n",
    "latlng = list(zip(lats,lngs))\n",
    "print(latlng[0])"
   ]
  },
  {
   "cell_type": "code",
   "execution_count": 46,
   "metadata": {},
   "outputs": [
    {
     "name": "stdout",
     "output_type": "stream",
     "text": [
      "528\n",
      "upernavik\n"
     ]
    }
   ],
   "source": [
    "cities = []\n",
    "\n",
    "for coords in latlng: \n",
    "    city = citipy.nearest_city(coords[0], coords[1]).city_name\n",
    "    if city not in cities:\n",
    "        cities.append(city)\n",
    "print(len(cities))\n",
    "print(cities[0])"
   ]
  },
  {
   "cell_type": "markdown",
   "metadata": {},
   "source": [
    "### Perform API Calls\n",
    "* Perform a weather check on each city using a series of successive API calls.\n",
    "* Include a print log of each city as it'sbeing processed (with the city number and city name).\n"
   ]
  },
  {
   "cell_type": "code",
   "execution_count": 42,
   "metadata": {},
   "outputs": [],
   "source": [
    "url = 'http://api.openweathermap.org/data/2.5/weather?'\n",
    "params = {'q': '', 'appid': api_key, 'units': 'Imperial'}"
   ]
  },
  {
   "cell_type": "code",
   "execution_count": 64,
   "metadata": {},
   "outputs": [
    {
     "name": "stdout",
     "output_type": "stream",
     "text": [
      "{'coord': {'lon': 37.62, 'lat': 55.75}, 'weather': [{'id': 600, 'main': 'Snow', 'description': 'light snow', 'icon': '13n'}, {'id': 701, 'main': 'Mist', 'description': 'mist', 'icon': '50n'}], 'base': 'stations', 'main': {'temp': 14.72, 'pressure': 1035, 'humidity': 92, 'temp_min': 12.2, 'temp_max': 15.8}, 'visibility': 6000, 'wind': {'speed': 2.24, 'deg': 360}, 'clouds': {'all': 75}, 'dt': 1544907600, 'sys': {'type': 1, 'id': 9029, 'message': 0.0047, 'country': 'RU', 'sunrise': 1544853223, 'sunset': 1544878572}, 'id': 524901, 'name': 'Moscow', 'cod': 200}\n"
     ]
    }
   ],
   "source": [
    "params['q'] = 'moscow'\n",
    "resp = requests.get(url, params)\n",
    "print(resp.json())"
   ]
  },
  {
   "cell_type": "code",
   "execution_count": 99,
   "metadata": {},
   "outputs": [],
   "source": [
    "Cloudiness = []\n",
    "Country = []\n",
    "Date = []\n",
    "Humidity = []\n",
    "Lat = []\n",
    "Lng = []\n",
    "Max_Temp = []\n",
    "Wind_Speed = []\n",
    "    \n",
    "for city in cities:\n",
    "    params['q'] = city\n",
    "    resp = requests.get(url, params).json()\n",
    "    try: Cloudiness.append(resp['clouds']['all'])\n",
    "    except: Cloudiness.append(0)\n",
    "    try: Country.append(resp['sys']['country'])\n",
    "    except: (Country.append(0))\n",
    "    try: Date.append(resp['dt'])\n",
    "    except: Date.append(0)\n",
    "    try: Humidity.append(resp['main']['humidity'])\n",
    "    except: Humidity.append(0)\n",
    "    try: Max_Temp.append(resp['main']['temp_max'])\n",
    "    except: Max_Temp.append(0)\n",
    "    try: Wind_Speed.append(resp['wind']['speed'])\n",
    "    except: Wind_Speed.append(0)\n",
    "    try: Lat.append(resp['coord']['lat'])\n",
    "    except: Lat.append(0)\n",
    "    try: Lng.append(resp['coord']['lon'])\n",
    "    except: Lng.append(0)"
   ]
  },
  {
   "cell_type": "code",
   "execution_count": 101,
   "metadata": {},
   "outputs": [
    {
     "data": {
      "text/plain": [
       "21.28"
      ]
     },
     "execution_count": 101,
     "metadata": {},
     "output_type": "execute_result"
    }
   ],
   "source": [
    "resp['coord']['lat']"
   ]
  },
  {
   "cell_type": "code",
   "execution_count": 103,
   "metadata": {},
   "outputs": [
    {
     "name": "stdout",
     "output_type": "stream",
     "text": [
      "528\n",
      "528\n",
      "528\n",
      "528\n",
      "528\n",
      "528\n",
      "528\n",
      "528\n"
     ]
    }
   ],
   "source": [
    "print(len(Cloudiness))\n",
    "print(len(Country))\n",
    "print(len(Date))\n",
    "print(len(Humidity))\n",
    "print(len(Lat))\n",
    "print(len(Lng))\n",
    "print(len(Max_Temp))\n",
    "print(len(Wind_Speed))"
   ]
  },
  {
   "cell_type": "code",
   "execution_count": null,
   "metadata": {},
   "outputs": [],
   "source": []
  },
  {
   "cell_type": "markdown",
   "metadata": {},
   "source": [
    "### Convert Raw Data to DataFrame\n",
    "* Export the city data into a .csv.\n",
    "* Display the DataFrame"
   ]
  },
  {
   "cell_type": "code",
   "execution_count": 129,
   "metadata": {},
   "outputs": [
    {
     "data": {
      "text/html": [
       "<div>\n",
       "<style scoped>\n",
       "    .dataframe tbody tr th:only-of-type {\n",
       "        vertical-align: middle;\n",
       "    }\n",
       "\n",
       "    .dataframe tbody tr th {\n",
       "        vertical-align: top;\n",
       "    }\n",
       "\n",
       "    .dataframe thead th {\n",
       "        text-align: right;\n",
       "    }\n",
       "</style>\n",
       "<table border=\"1\" class=\"dataframe\">\n",
       "  <thead>\n",
       "    <tr style=\"text-align: right;\">\n",
       "      <th></th>\n",
       "      <th>Cloudiness</th>\n",
       "      <th>Date</th>\n",
       "      <th>Humidity</th>\n",
       "      <th>Lat</th>\n",
       "      <th>Lng</th>\n",
       "      <th>Max_Temp</th>\n",
       "      <th>Wind_Speed</th>\n",
       "    </tr>\n",
       "  </thead>\n",
       "  <tbody>\n",
       "    <tr>\n",
       "      <th>count</th>\n",
       "      <td>528.000000</td>\n",
       "      <td>5.280000e+02</td>\n",
       "      <td>528.000000</td>\n",
       "      <td>528.000000</td>\n",
       "      <td>528.000000</td>\n",
       "      <td>528.000000</td>\n",
       "      <td>528.000000</td>\n",
       "    </tr>\n",
       "    <tr>\n",
       "      <th>mean</th>\n",
       "      <td>38.073864</td>\n",
       "      <td>1.360573e+09</td>\n",
       "      <td>65.857955</td>\n",
       "      <td>19.319053</td>\n",
       "      <td>16.450436</td>\n",
       "      <td>42.707178</td>\n",
       "      <td>7.444811</td>\n",
       "    </tr>\n",
       "    <tr>\n",
       "      <th>std</th>\n",
       "      <td>36.473747</td>\n",
       "      <td>5.012764e+08</td>\n",
       "      <td>31.941548</td>\n",
       "      <td>32.283999</td>\n",
       "      <td>84.913449</td>\n",
       "      <td>33.395371</td>\n",
       "      <td>6.598765</td>\n",
       "    </tr>\n",
       "    <tr>\n",
       "      <th>min</th>\n",
       "      <td>0.000000</td>\n",
       "      <td>0.000000e+00</td>\n",
       "      <td>0.000000</td>\n",
       "      <td>-54.810000</td>\n",
       "      <td>-173.230000</td>\n",
       "      <td>-50.700000</td>\n",
       "      <td>0.000000</td>\n",
       "    </tr>\n",
       "    <tr>\n",
       "      <th>25%</th>\n",
       "      <td>0.000000</td>\n",
       "      <td>1.544908e+09</td>\n",
       "      <td>50.000000</td>\n",
       "      <td>-0.097500</td>\n",
       "      <td>-52.277500</td>\n",
       "      <td>11.485000</td>\n",
       "      <td>2.590000</td>\n",
       "    </tr>\n",
       "    <tr>\n",
       "      <th>50%</th>\n",
       "      <td>32.000000</td>\n",
       "      <td>1.544909e+09</td>\n",
       "      <td>76.000000</td>\n",
       "      <td>19.250000</td>\n",
       "      <td>5.885000</td>\n",
       "      <td>51.590000</td>\n",
       "      <td>5.820000</td>\n",
       "    </tr>\n",
       "    <tr>\n",
       "      <th>75%</th>\n",
       "      <td>75.000000</td>\n",
       "      <td>1.544910e+09</td>\n",
       "      <td>90.250000</td>\n",
       "      <td>46.885000</td>\n",
       "      <td>82.497500</td>\n",
       "      <td>73.400000</td>\n",
       "      <td>10.290000</td>\n",
       "    </tr>\n",
       "    <tr>\n",
       "      <th>max</th>\n",
       "      <td>100.000000</td>\n",
       "      <td>1.544910e+09</td>\n",
       "      <td>100.000000</td>\n",
       "      <td>78.220000</td>\n",
       "      <td>179.320000</td>\n",
       "      <td>89.600000</td>\n",
       "      <td>38.030000</td>\n",
       "    </tr>\n",
       "  </tbody>\n",
       "</table>\n",
       "</div>"
      ],
      "text/plain": [
       "       Cloudiness          Date    Humidity         Lat         Lng  \\\n",
       "count  528.000000  5.280000e+02  528.000000  528.000000  528.000000   \n",
       "mean    38.073864  1.360573e+09   65.857955   19.319053   16.450436   \n",
       "std     36.473747  5.012764e+08   31.941548   32.283999   84.913449   \n",
       "min      0.000000  0.000000e+00    0.000000  -54.810000 -173.230000   \n",
       "25%      0.000000  1.544908e+09   50.000000   -0.097500  -52.277500   \n",
       "50%     32.000000  1.544909e+09   76.000000   19.250000    5.885000   \n",
       "75%     75.000000  1.544910e+09   90.250000   46.885000   82.497500   \n",
       "max    100.000000  1.544910e+09  100.000000   78.220000  179.320000   \n",
       "\n",
       "         Max_Temp  Wind_Speed  \n",
       "count  528.000000  528.000000  \n",
       "mean    42.707178    7.444811  \n",
       "std     33.395371    6.598765  \n",
       "min    -50.700000    0.000000  \n",
       "25%     11.485000    2.590000  \n",
       "50%     51.590000    5.820000  \n",
       "75%     73.400000   10.290000  \n",
       "max     89.600000   38.030000  "
      ]
     },
     "execution_count": 129,
     "metadata": {},
     "output_type": "execute_result"
    }
   ],
   "source": [
    "weather = pd.DataFrame({'City': cities, \n",
    "                        'Cloudiness':Cloudiness,\n",
    "                        'Country':Country,\n",
    "                        'Date':Date,\n",
    "                        'Humidity':Humidity,\n",
    "                        'Lat':Lat,\n",
    "                        'Lng':Lng,\n",
    "                        'Max_Temp':Max_Temp,\n",
    "                        'Wind_Speed':Wind_Speed\n",
    "                       })\n",
    "weather.describe()"
   ]
  },
  {
   "cell_type": "code",
   "execution_count": 128,
   "metadata": {},
   "outputs": [
    {
     "data": {
      "text/html": [
       "<div>\n",
       "<style scoped>\n",
       "    .dataframe tbody tr th:only-of-type {\n",
       "        vertical-align: middle;\n",
       "    }\n",
       "\n",
       "    .dataframe tbody tr th {\n",
       "        vertical-align: top;\n",
       "    }\n",
       "\n",
       "    .dataframe thead th {\n",
       "        text-align: right;\n",
       "    }\n",
       "</style>\n",
       "<table border=\"1\" class=\"dataframe\">\n",
       "  <thead>\n",
       "    <tr style=\"text-align: right;\">\n",
       "      <th></th>\n",
       "      <th>Cloudiness</th>\n",
       "      <th>Date</th>\n",
       "      <th>Humidity</th>\n",
       "      <th>Lat</th>\n",
       "      <th>Lng</th>\n",
       "      <th>Max_Temp</th>\n",
       "      <th>Wind_Speed</th>\n",
       "    </tr>\n",
       "  </thead>\n",
       "  <tbody>\n",
       "    <tr>\n",
       "      <th>count</th>\n",
       "      <td>465.000000</td>\n",
       "      <td>4.650000e+02</td>\n",
       "      <td>465.000000</td>\n",
       "      <td>465.000000</td>\n",
       "      <td>465.000000</td>\n",
       "      <td>465.000000</td>\n",
       "      <td>465.000000</td>\n",
       "    </tr>\n",
       "    <tr>\n",
       "      <th>mean</th>\n",
       "      <td>43.232258</td>\n",
       "      <td>1.544909e+09</td>\n",
       "      <td>74.780645</td>\n",
       "      <td>21.936473</td>\n",
       "      <td>18.679204</td>\n",
       "      <td>48.493312</td>\n",
       "      <td>8.453462</td>\n",
       "    </tr>\n",
       "    <tr>\n",
       "      <th>std</th>\n",
       "      <td>35.881357</td>\n",
       "      <td>1.361018e+03</td>\n",
       "      <td>22.138359</td>\n",
       "      <td>33.559338</td>\n",
       "      <td>90.263815</td>\n",
       "      <td>31.392378</td>\n",
       "      <td>6.396163</td>\n",
       "    </tr>\n",
       "    <tr>\n",
       "      <th>min</th>\n",
       "      <td>0.000000</td>\n",
       "      <td>1.544904e+09</td>\n",
       "      <td>0.000000</td>\n",
       "      <td>-54.810000</td>\n",
       "      <td>-173.230000</td>\n",
       "      <td>-50.700000</td>\n",
       "      <td>0.250000</td>\n",
       "    </tr>\n",
       "    <tr>\n",
       "      <th>25%</th>\n",
       "      <td>1.000000</td>\n",
       "      <td>1.544908e+09</td>\n",
       "      <td>64.000000</td>\n",
       "      <td>-4.340000</td>\n",
       "      <td>-60.280000</td>\n",
       "      <td>30.200000</td>\n",
       "      <td>3.380000</td>\n",
       "    </tr>\n",
       "    <tr>\n",
       "      <th>50%</th>\n",
       "      <td>40.000000</td>\n",
       "      <td>1.544910e+09</td>\n",
       "      <td>78.000000</td>\n",
       "      <td>27.030000</td>\n",
       "      <td>19.240000</td>\n",
       "      <td>57.670000</td>\n",
       "      <td>6.930000</td>\n",
       "    </tr>\n",
       "    <tr>\n",
       "      <th>75%</th>\n",
       "      <td>75.000000</td>\n",
       "      <td>1.544910e+09</td>\n",
       "      <td>92.000000</td>\n",
       "      <td>50.560000</td>\n",
       "      <td>97.530000</td>\n",
       "      <td>75.200000</td>\n",
       "      <td>11.410000</td>\n",
       "    </tr>\n",
       "    <tr>\n",
       "      <th>max</th>\n",
       "      <td>100.000000</td>\n",
       "      <td>1.544910e+09</td>\n",
       "      <td>100.000000</td>\n",
       "      <td>78.220000</td>\n",
       "      <td>179.320000</td>\n",
       "      <td>89.600000</td>\n",
       "      <td>38.030000</td>\n",
       "    </tr>\n",
       "  </tbody>\n",
       "</table>\n",
       "</div>"
      ],
      "text/plain": [
       "       Cloudiness          Date    Humidity         Lat         Lng  \\\n",
       "count  465.000000  4.650000e+02  465.000000  465.000000  465.000000   \n",
       "mean    43.232258  1.544909e+09   74.780645   21.936473   18.679204   \n",
       "std     35.881357  1.361018e+03   22.138359   33.559338   90.263815   \n",
       "min      0.000000  1.544904e+09    0.000000  -54.810000 -173.230000   \n",
       "25%      1.000000  1.544908e+09   64.000000   -4.340000  -60.280000   \n",
       "50%     40.000000  1.544910e+09   78.000000   27.030000   19.240000   \n",
       "75%     75.000000  1.544910e+09   92.000000   50.560000   97.530000   \n",
       "max    100.000000  1.544910e+09  100.000000   78.220000  179.320000   \n",
       "\n",
       "         Max_Temp  Wind_Speed  \n",
       "count  465.000000  465.000000  \n",
       "mean    48.493312    8.453462  \n",
       "std     31.392378    6.396163  \n",
       "min    -50.700000    0.250000  \n",
       "25%     30.200000    3.380000  \n",
       "50%     57.670000    6.930000  \n",
       "75%     75.200000   11.410000  \n",
       "max     89.600000   38.030000  "
      ]
     },
     "execution_count": 128,
     "metadata": {},
     "output_type": "execute_result"
    }
   ],
   "source": [
    "weath = weather.loc[weather.Lat != 0, :]\n",
    "weath.describe()"
   ]
  },
  {
   "cell_type": "markdown",
   "metadata": {},
   "source": [
    "### Plotting the Data\n",
    "* Use proper labeling of the plots using plot titles (including date of analysis) and axes labels.\n",
    "* Save the plotted figures as .pngs."
   ]
  },
  {
   "cell_type": "markdown",
   "metadata": {},
   "source": [
    "#### Latitude vs. Temperature Plot"
   ]
  },
  {
   "cell_type": "code",
   "execution_count": 140,
   "metadata": {},
   "outputs": [
    {
     "data": {
      "image/png": "[encoded data removed]",
      "text/plain": [
       "<Figure size 432x288 with 1 Axes>"
      ]
     },
     "metadata": {
      "needs_background": "light"
     },
     "output_type": "display_data"
    }
   ],
   "source": [
    "weath.plot(x='Lat', y='Max_Temp', kind='Scatter', grid=True, figsize=(6, 4), marker = 'o')\n",
    "plt.title = 'Latitude vs. Max Temp'"
   ]
  },
  {
   "cell_type": "markdown",
   "metadata": {},
   "source": [
    "#### Latitude vs. Humidity Plot"
   ]
  },
  {
   "cell_type": "code",
   "execution_count": 147,
   "metadata": {},
   "outputs": [
    {
     "data": {
      "image/png": "[encoded data removed]",
      "text/plain": [
       "<Figure size 432x288 with 1 Axes>"
      ]
     },
     "metadata": {
      "needs_background": "light"
     },
     "output_type": "display_data"
    }
   ],
   "source": [
    "weath.plot(x='Lat', y='Humidity', kind='Scatter', grid=True, figsize=(6, 4), marker = 'o', color='darkgreen')\n",
    "plt.title = 'Latitude vs. Humidity'"
   ]
  },
  {
   "cell_type": "markdown",
   "metadata": {},
   "source": [
    "#### Latitude vs. Cloudiness Plot"
   ]
  },
  {
   "cell_type": "code",
   "execution_count": 146,
   "metadata": {},
   "outputs": [
    {
     "data": {
      "image/png": "[encoded data removed]",
      "text/plain": [
       "<Figure size 432x288 with 1 Axes>"
      ]
     },
     "metadata": {
      "needs_background": "light"
     },
     "output_type": "display_data"
    }
   ],
   "source": [
    "weath.plot(x='Lat', y='Cloudiness', kind='Scatter', grid=True, figsize=(6, 4), marker = 'o', color='darkblue')\n",
    "plt.title = 'Latitude vs. Cloudiness'"
   ]
  },
  {
   "cell_type": "markdown",
   "metadata": {},
   "source": [
    "#### Latitude vs. Wind Speed Plot"
   ]
  },
  {
   "cell_type": "code",
   "execution_count": 148,
   "metadata": {},
   "outputs": [
    {
     "data": {
      "image/png": "[encoded data removed]",
      "text/plain": [
       "<Figure size 432x288 with 1 Axes>"
      ]
     },
     "metadata": {
      "needs_background": "light"
     },
     "output_type": "display_data"
    }
   ],
   "source": [
    "weath.plot(x='Lat', y='Wind_Speed', kind='Scatter', grid=True, figsize=(6, 4), marker = 'o', color='maroon')\n",
    "plt.title = 'Latitude vs. Wind Speed'"
   ]
  },
  {
   "cell_type": "markdown",
   "metadata": {},
   "source": [
    "## Analysis of Results\n",
    "#### We notice that many of the lat/long combinations did not yield a city\n",
    "+ this makes sense because roughly 2/3 of the earth is water and we are using the full range\n",
    "\n",
    "#### Even those lat/long combos which yield a city, many did not yield results from the weather API\n",
    "+ there are no cities below -60 latitude (this is mostly antarctica with no cities)\n",
    "\n",
    "#### The only plot with an observable trend is the Max Temp, which is highest near the equator (latitude zero)"
   ]
  },
  {
   "cell_type": "code",
   "execution_count": null,
   "metadata": {},
   "outputs": [],
   "source": []
  }
 ],
 "metadata": {
  "anaconda-cloud": {},
  "kernelspec": {
   "display_name": "Python 3",
   "language": "python",
   "name": "python3"
  },
  "language_info": {
   "codemirror_mode": {
    "name": "ipython",
    "version": 3
   },
   "file_extension": ".py",
   "mimetype": "text/x-python",
   "name": "python",
   "nbconvert_exporter": "python",
   "pygments_lexer": "ipython3",
   "version": "3.6.7"
  }
 },
 "nbformat": 4,
 "nbformat_minor": 2
}
