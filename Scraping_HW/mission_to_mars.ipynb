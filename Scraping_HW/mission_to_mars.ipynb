{
 "cells": [
  {
   "cell_type": "code",
   "execution_count": 8,
   "metadata": {},
   "outputs": [
    {
     "name": "stdout",
     "output_type": "stream",
     "text": [
      "['/Users/bhalbur/anaconda3/lib/python36.zip', '/Users/bhalbur/anaconda3/lib/python3.6', '/Users/bhalbur/anaconda3/lib/python3.6/lib-dynload', '', '/Users/bhalbur/anaconda3/lib/python3.6/site-packages', '/Users/bhalbur/anaconda3/lib/python3.6/site-packages/aeosa', '/Users/bhalbur/anaconda3/lib/python3.6/site-packages/IPython/extensions', '/Users/bhalbur/.ipython']\n"
     ]
    }
   ],
   "source": [
    "import sys\n",
    "print(sys.path)"
   ]
  },
  {
   "cell_type": "markdown",
   "metadata": {},
   "source": [
    "# This notebook for testing code\n",
    "#### The final version will be saved as indivudual python files that can be executed on the terminal or called by another python program"
   ]
  },
  {
   "cell_type": "code",
   "execution_count": 1,
   "metadata": {},
   "outputs": [],
   "source": [
    "# Dependencies\n",
    "from bs4 import BeautifulSoup\n",
    "import requests\n",
    "import pymongo\n",
    "from splinter import Browser"
   ]
  },
  {
   "cell_type": "code",
   "execution_count": null,
   "metadata": {},
   "outputs": [],
   "source": [
    "# Initialize PyMongo to work with MongoDBs\n",
    "client = pymongo.MongoClient('mongodb://localhost:27017')"
   ]
  },
  {
   "cell_type": "code",
   "execution_count": null,
   "metadata": {},
   "outputs": [],
   "source": [
    "# Define database and collection\n",
    "db = client.mars\n",
    "collection = db.marspage"
   ]
  },
  {
   "cell_type": "code",
   "execution_count": 2,
   "metadata": {},
   "outputs": [],
   "source": [
    "## PART 1 Mars News\n",
    "# URL of page to be scraped\n",
    "url = 'https://mars.nasa.gov/news/'\n",
    "response = requests.get(url, timeout=5)"
   ]
  },
  {
   "cell_type": "code",
   "execution_count": 3,
   "metadata": {},
   "outputs": [],
   "source": [
    "# Create BeautifulSoup object; parse with 'lxml'\n",
    "soup = BeautifulSoup(response.text, 'html.parser')"
   ]
  },
  {
   "cell_type": "code",
   "execution_count": 27,
   "metadata": {
    "scrolled": true
   },
   "outputs": [
    {
     "name": "stdout",
     "output_type": "stream",
     "text": [
      "\n",
      "\n",
      "NASA's InSight Places First Instrument on Mars\n",
      "\n",
      "\n",
      "\n",
      "In deploying its first instrument onto the surface of Mars, the lander completes a major mission milestone.\n",
      "\n",
      "{'article_title': \"NASA's InSight Places First Instrument on Mars\", 'article_content': 'In deploying its first instrument onto the surface of Mars, the lander completes a major mission milestone.'}\n"
     ]
    }
   ],
   "source": [
    "header = soup.find('div', class_='content_title')\n",
    "body = soup.find('div', class_='rollover_description_inner')\n",
    "print(header.text)\n",
    "print(body.text)\n",
    "news_dict = {}\n",
    "news_dict['article_title'] = header.text.strip()\n",
    "news_dict['article_content'] = body.text.strip()\n",
    "print(news_dict)"
   ]
  },
  {
   "cell_type": "code",
   "execution_count": 26,
   "metadata": {
    "scrolled": true
   },
   "outputs": [
    {
     "name": "stdout",
     "output_type": "stream",
     "text": [
      "1210751\n",
      "Beyond Mars, the Mini MarCO Spacecraft Fall Silent\n",
      "The first CubeSat mission to deep space may have reached their limit, but they could inspire future NASA missions.\n",
      "{'type': 'news', 'title': 'Beyond Mars, the Mini MarCO Spacecraft Fall Silent', 'content': 'The first CubeSat mission to deep space may have reached their limit, but they could inspire future NASA missions.'}\n"
     ]
    }
   ],
   "source": [
    "## Part 1 News -- WITH SPLINTER\n",
    "news_url = 'https://mars.nasa.gov/news/'\n",
    "executable_path = {'executable_path': '/usr/local/bin/chromedriver'}\n",
    "browser = Browser('chrome', **executable_path, headless=True)\n",
    "browser.visit(news_url)\n",
    "news_soup = BeautifulSoup(browser.html, 'html.parser')\n",
    "print(len(browser.html))\n",
    "header = news_soup.find('div', class_='content_title')\n",
    "print(header.text)\n",
    "body = news_soup.find('div', class_='rollover_description_inner')\n",
    "print(body.text)\n",
    "news_dict = {}\n",
    "news_dict['type'] = 'news'\n",
    "news_dict['title'] = header.text.strip()\n",
    "news_dict['content'] = body.text.strip()\n",
    "print(news_dict)\n",
    "#db.variables.insert_one(news_dict)"
   ]
  },
  {
   "cell_type": "code",
   "execution_count": null,
   "metadata": {},
   "outputs": [],
   "source": []
  },
  {
   "cell_type": "code",
   "execution_count": null,
   "metadata": {},
   "outputs": [],
   "source": [
    "### PART 2 FEATURED IMAGE"
   ]
  },
  {
   "cell_type": "code",
   "execution_count": 11,
   "metadata": {},
   "outputs": [],
   "source": [
    "executable_path = {'executable_path': '/usr/local/bin/chromedriver'}\n",
    "browser = Browser('chrome', **executable_path, headless=True)"
   ]
  },
  {
   "cell_type": "code",
   "execution_count": 15,
   "metadata": {},
   "outputs": [],
   "source": [
    "featured_url = 'https://www.jpl.nasa.gov/spaceimages/?search=&category=Mars'\n",
    "browser.visit(featured_url)\n",
    "browser.click_link_by_partial_text('FULL IMAGE')"
   ]
  },
  {
   "cell_type": "code",
   "execution_count": 16,
   "metadata": {},
   "outputs": [
    {
     "name": "stdout",
     "output_type": "stream",
     "text": [
      "254024 246791\n",
      "Featured img url: https://www.jpl.nasa.gov/spaceimages/images/mediumsize/PIA16837_ip.jpg\n"
     ]
    }
   ],
   "source": [
    "featured_html = browser.html\n",
    "print(len(featured_html), 246791)\n",
    "featured_soup = BeautifulSoup(featured_html, 'html.parser')\n",
    "url_suffix = featured_soup.find('img', class_='fancybox-image').attrs['src']\n",
    "featured_img_url = 'https://www.jpl.nasa.gov' + url_suffix\n",
    "print(f'Featured img url: {featured_img_url}')"
   ]
  },
  {
   "cell_type": "code",
   "execution_count": 5,
   "metadata": {},
   "outputs": [
    {
     "data": {
      "text/plain": [
       "bs4.element.Tag"
      ]
     },
     "execution_count": 5,
     "metadata": {},
     "output_type": "execute_result"
    }
   ],
   "source": [
    "type(featured_soup.find('img', class_='fancybox-image'))"
   ]
  },
  {
   "cell_type": "code",
   "execution_count": 50,
   "metadata": {},
   "outputs": [
    {
     "name": "stdout",
     "output_type": "stream",
     "text": [
      "{'title': 'Featured_Image', 'img_url': 'https://www.jpl.nasa.gov/spaceimages/?search=&category=Mars/spaceimages/images/mediumsize/PIA17845_ip.jpg'}\n"
     ]
    }
   ],
   "source": [
    "featured_dict = {}\n",
    "featured_dict['title'] = 'Featured_Image'\n",
    "featured_dict['img_url'] = featured_img_url\n",
    "print(featured_dict)"
   ]
  },
  {
   "cell_type": "code",
   "execution_count": null,
   "metadata": {},
   "outputs": [],
   "source": [
    "### PART 3 TWITTER SCRAPING\n",
    "twitter_url='https://twitter.com/marswxreport?lang=en'"
   ]
  },
  {
   "cell_type": "code",
   "execution_count": null,
   "metadata": {},
   "outputs": [],
   "source": [
    "twit_resp = requests.get(twitter_url, timeout=5)"
   ]
  },
  {
   "cell_type": "code",
   "execution_count": null,
   "metadata": {},
   "outputs": [],
   "source": [
    "twitter_soup = BeautifulSoup(twit_resp.text, 'html.parser')"
   ]
  },
  {
   "cell_type": "code",
   "execution_count": null,
   "metadata": {},
   "outputs": [],
   "source": [
    "tweets = twitter_soup.find_all('p', class_='TweetTextSize')\n",
    "for tweet in tweets:\n",
    "    if tweet.text[:3] == 'Sol':\n",
    "        weather_dict = {}\n",
    "        weather_dict['weather'] = tweet.text\n",
    "        print(tweet.text)\n",
    "        break\n",
    "    else: next"
   ]
  },
  {
   "cell_type": "code",
   "execution_count": 47,
   "metadata": {},
   "outputs": [],
   "source": [
    "## PART 4 MARS FACTS\n",
    "fact_url = 'https://space-facts.com/mars/'\n",
    "fact_resp = requests.get(fact_url, timeout=5)"
   ]
  },
  {
   "cell_type": "code",
   "execution_count": 48,
   "metadata": {
    "scrolled": true
   },
   "outputs": [
    {
     "name": "stdout",
     "output_type": "stream",
     "text": [
      "\n",
      "Equatorial Diameter:6,792 km\n",
      "\n",
      "\n",
      "\n",
      "Polar Diameter:6,752 km\n",
      "\n",
      "\n",
      "\n",
      "Mass:6.42 x 10^23 kg (10.7% Earth)\n",
      "\n",
      "\n",
      "Moons:2 (Phobos & Deimos)\n",
      "\n",
      "\n",
      "Orbit Distance:227,943,824 km (1.52 AU)\n",
      "\n",
      "\n",
      "Orbit Period:687 days (1.9 years)\n",
      "\n",
      "\n",
      "\n",
      "Surface Temperature: -153 to 20 °C\n",
      "\n",
      "\n",
      "First Record:2nd millennium BC\n",
      "\n",
      "\n",
      "Recorded By:Egyptian astronomers\n",
      "\n"
     ]
    }
   ],
   "source": [
    "fact_soup = BeautifulSoup(fact_resp.text, 'html.parser')\n",
    "facts = fact_soup.find_all('tr')\n",
    "for fact in facts:\n",
    "    print(fact.text)"
   ]
  },
  {
   "cell_type": "code",
   "execution_count": 49,
   "metadata": {},
   "outputs": [
    {
     "name": "stdout",
     "output_type": "stream",
     "text": [
      "{'Equatorial Diameter': '6,792 km', 'Polar Diameter': '6,752 km', 'Mass': '6.42 x 10^23 kg (10.7% Earth)', 'Moons': '2 (Phobos & Deimos)', 'Orbit Distance': '227,943,824 km (1.52 AU)', 'Orbit Period': '687 days (1.9 years)', 'Surface Temperature': ' -153 to 20 °C', 'First Record': '2nd millennium BC', 'Recorded By': 'Egyptian astronomers'}\n"
     ]
    }
   ],
   "source": [
    "#this version prints all the facts into one dictionary\n",
    "fact_dict = {}\n",
    "for fact in facts:\n",
    "    description, value = fact.text.strip().split(':')\n",
    "    fact_dict[description] = value    \n",
    "print(fact_dict)"
   ]
  },
  {
   "cell_type": "code",
   "execution_count": null,
   "metadata": {},
   "outputs": [],
   "source": [
    "#this version puts the facts into a list of individual dictionaries\n",
    "fact_list = []\n",
    "for fact in facts:\n",
    "    fact_dict = {}\n",
    "    description, value = fact.text.strip().split(':')\n",
    "    fact_dict[description] = value\n",
    "    fact_list.append(fact_dict)\n",
    "    ##insert to Mongo DB\n",
    "print(fact_list)"
   ]
  },
  {
   "cell_type": "code",
   "execution_count": null,
   "metadata": {},
   "outputs": [],
   "source": [
    "###Part 5 Mars Hemispheres"
   ]
  },
  {
   "cell_type": "code",
   "execution_count": 35,
   "metadata": {},
   "outputs": [],
   "source": [
    "executable_path = {'executable_path': '/usr/local/bin/chromedriver'}\n",
    "browser = Browser('chrome', **executable_path, headless=False)"
   ]
  },
  {
   "cell_type": "code",
   "execution_count": 36,
   "metadata": {},
   "outputs": [],
   "source": [
    "hemi_url = 'https://astrogeology.usgs.gov/search/results?q=hemisphere+enhanced&k1=target&v1=Mars'\n",
    "browser.visit(hemi_url)"
   ]
  },
  {
   "cell_type": "code",
   "execution_count": 38,
   "metadata": {
    "scrolled": true
   },
   "outputs": [
    {
     "name": "stdout",
     "output_type": "stream",
     "text": [
      "Cerberus Hemisphere\n",
      "http://astropedia.astrogeology.usgs.gov/download/Mars/Viking/cerberus_enhanced.tif/full.jpg\n",
      "Schiaparelli Hemisphere\n",
      "http://astropedia.astrogeology.usgs.gov/download/Mars/Viking/schiaparelli_enhanced.tif/full.jpg\n",
      "Syrtis Major Hemisphere\n",
      "http://astropedia.astrogeology.usgs.gov/download/Mars/Viking/syrtis_major_enhanced.tif/full.jpg\n",
      "Valles Marineris Hemisphere\n",
      "http://astropedia.astrogeology.usgs.gov/download/Mars/Viking/valles_marineris_enhanced.tif/full.jpg\n",
      "[{'title': 'Cerberus Hemisphere', 'img_url': 'http://astropedia.astrogeology.usgs.gov/download/Mars/Viking/cerberus_enhanced.tif/full.jpg'}, {'title': 'Schiaparelli Hemisphere', 'img_url': 'http://astropedia.astrogeology.usgs.gov/download/Mars/Viking/schiaparelli_enhanced.tif/full.jpg'}, {'title': 'Syrtis Major Hemisphere', 'img_url': 'http://astropedia.astrogeology.usgs.gov/download/Mars/Viking/syrtis_major_enhanced.tif/full.jpg'}, {'title': 'Valles Marineris Hemisphere', 'img_url': 'http://astropedia.astrogeology.usgs.gov/download/Mars/Viking/valles_marineris_enhanced.tif/full.jpg'}]\n"
     ]
    }
   ],
   "source": [
    "hemispheres = ['Cerberus','Schiaparelli','Syrtis','Valles']\n",
    "hemi_list = []\n",
    "for hemi in hemispheres:\n",
    "    hemi_dict = {}\n",
    "    browser.click_link_by_partial_text(hemi)\n",
    "    hemi_soup = BeautifulSoup(browser.html, 'html.parser')\n",
    "    hemi_title = hemi_soup.find('h2', class_='title')\n",
    "    hemi_title = hemi_title.text.split(' Enhanced')[0]\n",
    "    print(hemi_title)\n",
    "    dl_tag = hemi_soup.find('div', class_='downloads')\n",
    "    hemi_img = dl_tag.find('a').attrs['href']\n",
    "    print(hemi_img)\n",
    "    hemi_dict['title'] = hemi_title\n",
    "    hemi_dict['img_url'] = hemi_img\n",
    "    hemi_list.append(hemi_dict)\n",
    "    browser.back()\n",
    "print(hemi_list)"
   ]
  },
  {
   "cell_type": "code",
   "execution_count": null,
   "metadata": {},
   "outputs": [],
   "source": []
  },
  {
   "cell_type": "code",
   "execution_count": null,
   "metadata": {},
   "outputs": [],
   "source": []
  },
  {
   "cell_type": "code",
   "execution_count": null,
   "metadata": {},
   "outputs": [],
   "source": []
  },
  {
   "cell_type": "code",
   "execution_count": null,
   "metadata": {},
   "outputs": [],
   "source": []
  },
  {
   "cell_type": "code",
   "execution_count": null,
   "metadata": {},
   "outputs": [],
   "source": []
  },
  {
   "cell_type": "code",
   "execution_count": null,
   "metadata": {},
   "outputs": [],
   "source": []
  },
  {
   "cell_type": "code",
   "execution_count": null,
   "metadata": {},
   "outputs": [],
   "source": []
  },
  {
   "cell_type": "code",
   "execution_count": null,
   "metadata": {},
   "outputs": [],
   "source": []
  },
  {
   "cell_type": "code",
   "execution_count": null,
   "metadata": {},
   "outputs": [],
   "source": []
  },
  {
   "cell_type": "code",
   "execution_count": null,
   "metadata": {},
   "outputs": [],
   "source": [
    "### LEFTOVERS FROM HOCKEY ASSIGNMENT\n",
    "headers = soup.find_all('li', class_='mixed-feed__item--article')\n",
    "for h in headers:\n",
    "    try:\n",
    "        title = h.find('h4').text\n",
    "        sub = h.find('h5').text\n",
    "        logo = h.find('img', class_='logo').attrs['src']\n",
    "        print(title)\n",
    "        print(' - '+sub)\n",
    "        print(f\"https://{logo}\")\n",
    "        print('-----------------')\n",
    "        \n",
    "        article = {\n",
    "            'title': title,\n",
    "            'subtitle': sub,\n",
    "            'team_logo': logo \n",
    "        }\n",
    "              \n",
    "        collection.insert_one(article)\n",
    "              \n",
    "    except Exception as e: \n",
    "        print(e)"
   ]
  },
  {
   "cell_type": "code",
   "execution_count": null,
   "metadata": {},
   "outputs": [],
   "source": [
    "# Display the MongoDB records created above\n",
    "articles = db.articles.find()\n",
    "for article in articles:\n",
    "    print(article)"
   ]
  },
  {
   "cell_type": "code",
   "execution_count": 28,
   "metadata": {},
   "outputs": [],
   "source": [
    "import pandas as pd"
   ]
  },
  {
   "cell_type": "code",
   "execution_count": 30,
   "metadata": {},
   "outputs": [],
   "source": [
    "df = pd.DataFrame([{'Equatorial Diameter': '6,792 km'}, {'Polar Diameter': '6,752 km'}, {'Mass': '6.42 x 10^23 kg (10.7% Earth)'}, {'Moons': '2 (Phobos & Deimos)'}, {'Orbit Distance': '227,943,824 km (1.52 AU)'}, {'Orbit Period': '687 days (1.9 years)'}, {'Surface Temperature': ' -153 to 20 °C'}, {'First Record': '2nd millennium BC'}, {'Recorded By': 'Egyptian astronomers'}])"
   ]
  },
  {
   "cell_type": "code",
   "execution_count": 31,
   "metadata": {},
   "outputs": [
    {
     "data": {
      "text/html": [
       "<div>\n",
       "<style scoped>\n",
       "    .dataframe tbody tr th:only-of-type {\n",
       "        vertical-align: middle;\n",
       "    }\n",
       "\n",
       "    .dataframe tbody tr th {\n",
       "        vertical-align: top;\n",
       "    }\n",
       "\n",
       "    .dataframe thead th {\n",
       "        text-align: right;\n",
       "    }\n",
       "</style>\n",
       "<table border=\"1\" class=\"dataframe\">\n",
       "  <thead>\n",
       "    <tr style=\"text-align: right;\">\n",
       "      <th></th>\n",
       "      <th>Equatorial Diameter</th>\n",
       "      <th>First Record</th>\n",
       "      <th>Mass</th>\n",
       "      <th>Moons</th>\n",
       "      <th>Orbit Distance</th>\n",
       "      <th>Orbit Period</th>\n",
       "      <th>Polar Diameter</th>\n",
       "      <th>Recorded By</th>\n",
       "      <th>Surface Temperature</th>\n",
       "    </tr>\n",
       "  </thead>\n",
       "  <tbody>\n",
       "    <tr>\n",
       "      <th>0</th>\n",
       "      <td>6,792 km</td>\n",
       "      <td>NaN</td>\n",
       "      <td>NaN</td>\n",
       "      <td>NaN</td>\n",
       "      <td>NaN</td>\n",
       "      <td>NaN</td>\n",
       "      <td>NaN</td>\n",
       "      <td>NaN</td>\n",
       "      <td>NaN</td>\n",
       "    </tr>\n",
       "    <tr>\n",
       "      <th>1</th>\n",
       "      <td>NaN</td>\n",
       "      <td>NaN</td>\n",
       "      <td>NaN</td>\n",
       "      <td>NaN</td>\n",
       "      <td>NaN</td>\n",
       "      <td>NaN</td>\n",
       "      <td>6,752 km</td>\n",
       "      <td>NaN</td>\n",
       "      <td>NaN</td>\n",
       "    </tr>\n",
       "    <tr>\n",
       "      <th>2</th>\n",
       "      <td>NaN</td>\n",
       "      <td>NaN</td>\n",
       "      <td>6.42 x 10^23 kg (10.7% Earth)</td>\n",
       "      <td>NaN</td>\n",
       "      <td>NaN</td>\n",
       "      <td>NaN</td>\n",
       "      <td>NaN</td>\n",
       "      <td>NaN</td>\n",
       "      <td>NaN</td>\n",
       "    </tr>\n",
       "    <tr>\n",
       "      <th>3</th>\n",
       "      <td>NaN</td>\n",
       "      <td>NaN</td>\n",
       "      <td>NaN</td>\n",
       "      <td>2 (Phobos &amp; Deimos)</td>\n",
       "      <td>NaN</td>\n",
       "      <td>NaN</td>\n",
       "      <td>NaN</td>\n",
       "      <td>NaN</td>\n",
       "      <td>NaN</td>\n",
       "    </tr>\n",
       "    <tr>\n",
       "      <th>4</th>\n",
       "      <td>NaN</td>\n",
       "      <td>NaN</td>\n",
       "      <td>NaN</td>\n",
       "      <td>NaN</td>\n",
       "      <td>227,943,824 km (1.52 AU)</td>\n",
       "      <td>NaN</td>\n",
       "      <td>NaN</td>\n",
       "      <td>NaN</td>\n",
       "      <td>NaN</td>\n",
       "    </tr>\n",
       "  </tbody>\n",
       "</table>\n",
       "</div>"
      ],
      "text/plain": [
       "  Equatorial Diameter First Record                           Mass  \\\n",
       "0            6,792 km          NaN                            NaN   \n",
       "1                 NaN          NaN                            NaN   \n",
       "2                 NaN          NaN  6.42 x 10^23 kg (10.7% Earth)   \n",
       "3                 NaN          NaN                            NaN   \n",
       "4                 NaN          NaN                            NaN   \n",
       "\n",
       "                 Moons            Orbit Distance Orbit Period Polar Diameter  \\\n",
       "0                  NaN                       NaN          NaN            NaN   \n",
       "1                  NaN                       NaN          NaN       6,752 km   \n",
       "2                  NaN                       NaN          NaN            NaN   \n",
       "3  2 (Phobos & Deimos)                       NaN          NaN            NaN   \n",
       "4                  NaN  227,943,824 km (1.52 AU)          NaN            NaN   \n",
       "\n",
       "  Recorded By Surface Temperature  \n",
       "0         NaN                 NaN  \n",
       "1         NaN                 NaN  \n",
       "2         NaN                 NaN  \n",
       "3         NaN                 NaN  \n",
       "4         NaN                 NaN  "
      ]
     },
     "execution_count": 31,
     "metadata": {},
     "output_type": "execute_result"
    }
   ],
   "source": [
    "df.head()"
   ]
  },
  {
   "cell_type": "code",
   "execution_count": 39,
   "metadata": {},
   "outputs": [
    {
     "name": "stdout",
     "output_type": "stream",
     "text": [
      "['Equatorial Diameter', 'Polar Diameter', 'Mass', 'Moons', 'Orbit Distance', 'Orbit Period', 'Surface Temperature', 'First Record', 'Recorded By'] ['6,792 km', '6,752 km', '6.42 x 10^23 kg (10.7% Earth)', '2 (Phobos & Deimos)', '227,943,824 km (1.52 AU)', '687 days (1.9 years)', ' -153 to 20 °C', '2nd millennium BC', 'Egyptian astronomers']\n"
     ]
    }
   ],
   "source": [
    "fact_url = 'https://space-facts.com/mars/'\n",
    "fact_resp = requests.get(fact_url, timeout=15)\n",
    "fact_soup = BeautifulSoup(fact_resp.text, 'html.parser')\n",
    "facts = fact_soup.find_all('tr')\n",
    "fact_list = []\n",
    "value_list = []\n",
    "fact_dict = {}\n",
    "fact_dict['type'] = 'facts'\n",
    "for fact in facts:\n",
    "    description, value = fact.text.strip().split(':')\n",
    "    fact_list.append(description)\n",
    "    value_list.append(value)\n",
    "    content_dict = {}\n",
    "    content_dict\n",
    "    fact_dict['content'] = fact_list\n",
    "    fact_dict['values'] = value_list\n",
    "print(fact_dict['content'], fact_dict['values'])"
   ]
  },
  {
   "cell_type": "code",
   "execution_count": 51,
   "metadata": {},
   "outputs": [],
   "source": [
    "df = pd.DataFrame([fact_dict])"
   ]
  },
  {
   "cell_type": "code",
   "execution_count": 52,
   "metadata": {},
   "outputs": [
    {
     "data": {
      "text/html": [
       "<div>\n",
       "<style scoped>\n",
       "    .dataframe tbody tr th:only-of-type {\n",
       "        vertical-align: middle;\n",
       "    }\n",
       "\n",
       "    .dataframe tbody tr th {\n",
       "        vertical-align: top;\n",
       "    }\n",
       "\n",
       "    .dataframe thead th {\n",
       "        text-align: right;\n",
       "    }\n",
       "</style>\n",
       "<table border=\"1\" class=\"dataframe\">\n",
       "  <thead>\n",
       "    <tr style=\"text-align: right;\">\n",
       "      <th></th>\n",
       "      <th>Equatorial Diameter</th>\n",
       "      <th>First Record</th>\n",
       "      <th>Mass</th>\n",
       "      <th>Moons</th>\n",
       "      <th>Orbit Distance</th>\n",
       "      <th>Orbit Period</th>\n",
       "      <th>Polar Diameter</th>\n",
       "      <th>Recorded By</th>\n",
       "      <th>Surface Temperature</th>\n",
       "    </tr>\n",
       "  </thead>\n",
       "  <tbody>\n",
       "    <tr>\n",
       "      <th>0</th>\n",
       "      <td>6,792 km</td>\n",
       "      <td>2nd millennium BC</td>\n",
       "      <td>6.42 x 10^23 kg (10.7% Earth)</td>\n",
       "      <td>2 (Phobos &amp; Deimos)</td>\n",
       "      <td>227,943,824 km (1.52 AU)</td>\n",
       "      <td>687 days (1.9 years)</td>\n",
       "      <td>6,752 km</td>\n",
       "      <td>Egyptian astronomers</td>\n",
       "      <td>-153 to 20 °C</td>\n",
       "    </tr>\n",
       "  </tbody>\n",
       "</table>\n",
       "</div>"
      ],
      "text/plain": [
       "  Equatorial Diameter       First Record                           Mass  \\\n",
       "0            6,792 km  2nd millennium BC  6.42 x 10^23 kg (10.7% Earth)   \n",
       "\n",
       "                 Moons            Orbit Distance          Orbit Period  \\\n",
       "0  2 (Phobos & Deimos)  227,943,824 km (1.52 AU)  687 days (1.9 years)   \n",
       "\n",
       "  Polar Diameter           Recorded By Surface Temperature  \n",
       "0       6,752 km  Egyptian astronomers       -153 to 20 °C  "
      ]
     },
     "execution_count": 52,
     "metadata": {},
     "output_type": "execute_result"
    }
   ],
   "source": [
    "df.head()"
   ]
  },
  {
   "cell_type": "code",
   "execution_count": null,
   "metadata": {},
   "outputs": [],
   "source": []
  }
 ],
 "metadata": {
  "kernelspec": {
   "display_name": "Python 3",
   "language": "python",
   "name": "python3"
  },
  "language_info": {
   "codemirror_mode": {
    "name": "ipython",
    "version": 3
   },
   "file_extension": ".py",
   "mimetype": "text/x-python",
   "name": "python",
   "nbconvert_exporter": "python",
   "pygments_lexer": "ipython3",
   "version": "3.6.7"
  },
  "varInspector": {
   "cols": {
    "lenName": 16,
    "lenType": 16,
    "lenVar": 40
   },
   "kernels_config": {
    "python": {
     "delete_cmd_postfix": "",
     "delete_cmd_prefix": "del ",
     "library": "var_list.py",
     "varRefreshCmd": "print(var_dic_list())"
    },
    "r": {
     "delete_cmd_postfix": ") ",
     "delete_cmd_prefix": "rm(",
     "library": "var_list.r",
     "varRefreshCmd": "cat(var_dic_list()) "
    }
   },
   "types_to_exclude": [
    "module",
    "function",
    "builtin_function_or_method",
    "instance",
    "_Feature"
   ],
   "window_display": false
  }
 },
 "nbformat": 4,
 "nbformat_minor": 2
}
